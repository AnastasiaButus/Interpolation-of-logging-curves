{
 "cells": [
  {
   "cell_type": "code",
   "execution_count": 5,
   "metadata": {},
   "outputs": [],
   "source": [
    "import numpy as np\n",
    "\n",
    "\n",
    "from func_slicing import slice_1d, slice_2d"
   ]
  },
  {
   "cell_type": "code",
   "execution_count": 6,
   "metadata": {},
   "outputs": [
    {
     "data": {
      "text/plain": [
       "(array([[0, 1, 2],\n",
       "        [1, 2, 3],\n",
       "        [2, 3, 4],\n",
       "        [3, 4, 5],\n",
       "        [4, 5, 6],\n",
       "        [5, 6, 7],\n",
       "        [6, 7, 8],\n",
       "        [7, 8, 9]]),\n",
       " array([11, 22, 33, 44, 55, 66, 77, 88]))"
      ]
     },
     "execution_count": 6,
     "metadata": {},
     "output_type": "execute_result"
    }
   ],
   "source": [
    "x = np.array([0,1,2,3,4,5,6,7,8,9])\n",
    "y = np.array([0,11,22,33,44,55,66,77,88,99])\n",
    "x_wind = 3\n",
    "\n",
    "slice_1d(x, y, x_wind)"
   ]
  },
  {
   "cell_type": "code",
   "execution_count": 7,
   "metadata": {},
   "outputs": [
    {
     "data": {
      "text/plain": [
       "(array([[0. , 1. , 2. ],\n",
       "        [1. , 2. , 3. ],\n",
       "        [2. , 3. , 3.5]]),\n",
       " array([11, 22, 33]))"
      ]
     },
     "execution_count": 7,
     "metadata": {},
     "output_type": "execute_result"
    }
   ],
   "source": [
    "x = np.array([0,1,2,3,3.5])\n",
    "y = np.array([0,11,22,33,333])\n",
    "x_wind = 3\n",
    "\n",
    "x_sl, y_sl = slice_1d(x, y, x_wind)\n",
    "x_sl, y_sl"
   ]
  },
  {
   "cell_type": "code",
   "execution_count": 8,
   "metadata": {},
   "outputs": [
    {
     "data": {
      "text/plain": [
       "(array([[0. , 1. , 2. ],\n",
       "        [1. , 2. , 3. ],\n",
       "        [2. , 3. , 3.5],\n",
       "        [4. , 5. , 6. ],\n",
       "        [7. , 8. , 9. ]]),\n",
       " array([11, 22, 33, 55, 88]))"
      ]
     },
     "execution_count": 8,
     "metadata": {},
     "output_type": "execute_result"
    }
   ],
   "source": [
    "m_x = [[0,1,2,3,3.5],[4,5,6],[7,8,9]]\n",
    "m_y = [[0,11,22,33,333],[44,55,66],[77,88,99]]\n",
    "\n",
    "m_x_sl, m_y_sl = slice_2d(m_x, m_y, x_wind=3)\n",
    "m_x_sl, m_y_sl"
   ]
  }
 ],
 "metadata": {
  "kernelspec": {
   "display_name": "venv",
   "language": "python",
   "name": "python3"
  },
  "language_info": {
   "codemirror_mode": {
    "name": "ipython",
    "version": 3
   },
   "file_extension": ".py",
   "mimetype": "text/x-python",
   "name": "python",
   "nbconvert_exporter": "python",
   "pygments_lexer": "ipython3",
   "version": "3.9.7"
  }
 },
 "nbformat": 4,
 "nbformat_minor": 2
}
