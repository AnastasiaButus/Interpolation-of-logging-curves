{
  "nbformat": 4,
  "nbformat_minor": 0,
  "metadata": {
    "colab": {
      "provenance": [],
      "authorship_tag": "ABX9TyOLwG3V3B7s9sta1bUx1FJ0",
      "include_colab_link": true
    },
    "kernelspec": {
      "name": "python3",
      "display_name": "Python 3"
    },
    "language_info": {
      "name": "python"
    }
  },
  "cells": [
    {
      "cell_type": "markdown",
      "metadata": {
        "id": "view-in-github",
        "colab_type": "text"
      },
      "source": [
        "<a href=\"https://colab.research.google.com/github/AnastasiaButus/Interpolation-of-logging-curves/blob/main/Super_function_seism_vectors.ipynb\" target=\"_parent\"><img src=\"https://colab.research.google.com/assets/colab-badge.svg\" alt=\"Open In Colab\"/></a>"
      ]
    },
    {
      "cell_type": "code",
      "source": [
        "import numpy as np"
      ],
      "metadata": {
        "id": "vm40FSdBevEY"
      },
      "execution_count": null,
      "outputs": []
    },
    {
      "cell_type": "code",
      "source": [
        "a = np.array([1.1,2.9])\n",
        "np.round(a)"
      ],
      "metadata": {
        "colab": {
          "base_uri": "https://localhost:8080/"
        },
        "id": "oLXN6WtyJ-cW",
        "outputId": "b98cf3d2-2065-4c4e-e2d5-8decba096264"
      },
      "execution_count": null,
      "outputs": [
        {
          "output_type": "execute_result",
          "data": {
            "text/plain": [
              "array([1., 3.])"
            ]
          },
          "metadata": {},
          "execution_count": 58
        }
      ]
    },
    {
      "cell_type": "code",
      "source": [
        "np.linspace(0, 10, 10)"
      ],
      "metadata": {
        "colab": {
          "base_uri": "https://localhost:8080/"
        },
        "id": "i8pvIKrjSGgQ",
        "outputId": "b052aeef-5333-4c90-93b1-a88abe3eba1e"
      },
      "execution_count": null,
      "outputs": [
        {
          "output_type": "execute_result",
          "data": {
            "text/plain": [
              "array([ 0.        ,  1.11111111,  2.22222222,  3.33333333,  4.44444444,\n",
              "        5.55555556,  6.66666667,  7.77777778,  8.88888889, 10.        ])"
            ]
          },
          "metadata": {},
          "execution_count": 61
        }
      ]
    },
    {
      "cell_type": "code",
      "source": [
        "def seism_vectors(main_array,\n",
        "                  x_coord, y_coord,\n",
        "                  z_top, z_bottom,\n",
        "                  t_top, t_bottom,\n",
        "                  delta_t=2,\n",
        "                  index_top=900, index_bottom=1300):\n",
        "\n",
        "    \"\"\" This function recieves seisma data, x+y coordinates of well`s\n",
        "    and some constants. Returns array of seisma and it`s coordinates.\n",
        "\n",
        "    main_array - 3D np.array of seisma\n",
        "    x_coord - vector of x coordinates in meters of well`s\n",
        "    y_coord - vector of y coordinates in meters of well`s\n",
        "    z_top, z_bottom - bounds of krovla+podoshva in meters\n",
        "    t_top, t_bottom - bounds of krovla+podoshva in mseconds\n",
        "    delta_t - discretisation step of seisma in seconds\n",
        "    index_top, index_bottom - indexes of cutting seisma cube\n",
        "    \"\"\"\n",
        "    # Getting indexes for seism from coordinates\n",
        "    x_index = np.round( (np.array(x_coord)-524272.72)/(9630.30/392) )\n",
        "    y_index = np.round( (np.array(y_coord)-6410041.47)/((18876.79/768)) )\n",
        "\n",
        "    # Getting seism data\n",
        "    result_matrix = main_array[x_index, y_index, :]\n",
        "\n",
        "    # Getting massive of depth values. Suggesting velocity=const.\n",
        "    t = np.linspace(index_top*delta_t, (index_bottom-1)*delta_t, main_array.shape[2])\n",
        "    z = (t - t_top)/(t_bottom-t_top)*(z_top-z_bottom) + z_top\n",
        "\n",
        "\n",
        "    return result_matrix, z"
      ],
      "metadata": {
        "id": "XNaf03PlkCvl"
      },
      "execution_count": null,
      "outputs": []
    },
    {
      "cell_type": "code",
      "source": [
        "main_array = np.array([\n",
        "    [[1, 11], [2,22], [3,33], [4,44]],\n",
        "    [[5,55], [6,66], [7,77], [8,88]],\n",
        "    [[9,99], [10,101], [11,111], [12,122]]\n",
        "     ])\n",
        "\n",
        "x_slice = [0, 1, 2, 2]\n",
        "\n",
        "y_slice = [0, 1, 2, 3]\n",
        "\n",
        "index_try = [100,200]"
      ],
      "metadata": {
        "id": "SfNnSsQO6CsV"
      },
      "execution_count": null,
      "outputs": []
    },
    {
      "cell_type": "code",
      "source": [
        "result = seism_vectors(main_array, x_slice, y_slice, index_try)\n",
        "print(result)"
      ],
      "metadata": {
        "colab": {
          "base_uri": "https://localhost:8080/"
        },
        "id": "bYxDL6kr6Mvt",
        "outputId": "20b07fab-6665-4bcf-ecde-6bd469950805"
      },
      "execution_count": null,
      "outputs": [
        {
          "output_type": "stream",
          "name": "stdout",
          "text": [
            "[[  1  11]\n",
            " [  6  66]\n",
            " [ 11 111]\n",
            " [ 12 122]]\n"
          ]
        }
      ]
    },
    {
      "cell_type": "code",
      "source": [
        "main_array[[0,1],[0,1],:]"
      ],
      "metadata": {
        "colab": {
          "base_uri": "https://localhost:8080/"
        },
        "id": "c0Xl9fYl6PWT",
        "outputId": "e11ff1b3-4a1f-434c-c091-f1b4a37fee31"
      },
      "execution_count": null,
      "outputs": [
        {
          "output_type": "execute_result",
          "data": {
            "text/plain": [
              "array([[ 1, 11],\n",
              "       [ 6, 66]])"
            ]
          },
          "metadata": {},
          "execution_count": 57
        }
      ]
    }
  ]
}